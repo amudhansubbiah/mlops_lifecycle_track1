{
 "cells": [
  {
   "cell_type": "code",
   "execution_count": null,
   "id": "f5de21b4-457e-4b6d-8861-221b1b39599b",
   "metadata": {},
   "outputs": [],
   "source": [
    "#load the data from the \\interm folder  and split the data into train and test. \n",
    "# write the content into train.csv & test.csv and store it into the processed folder"
   ]
  },
  {
   "cell_type": "code",
   "execution_count": null,
   "id": "0f095feb-e5ae-4807-a9bb-a31e8a92170b",
   "metadata": {},
   "outputs": [],
   "source": []
  }
 ],
 "metadata": {
  "kernelspec": {
   "display_name": "Python 3 (ipykernel)",
   "language": "python",
   "name": "python3"
  },
  "language_info": {
   "codemirror_mode": {
    "name": "ipython",
    "version": 3
   },
   "file_extension": ".py",
   "mimetype": "text/x-python",
   "name": "python",
   "nbconvert_exporter": "python",
   "pygments_lexer": "ipython3",
   "version": "3.8.12"
  }
 },
 "nbformat": 4,
 "nbformat_minor": 5
}
