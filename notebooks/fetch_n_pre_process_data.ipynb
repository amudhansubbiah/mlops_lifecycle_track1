{
 "cells": [
  {
   "cell_type": "code",
   "execution_count": 1,
   "id": "abd86a34-2a5d-4960-9924-1aa1b2b870b9",
   "metadata": {},
   "outputs": [],
   "source": [
    "### Load the raw data and perform data pre-processing. Store the pre-processed data into the \\interim folder"
   ]
  },
  {
   "cell_type": "code",
   "execution_count": null,
   "id": "75c3538a-bfb8-43c6-925e-61abdea62852",
   "metadata": {},
   "outputs": [],
   "source": [
    "def fetch_n_preprocess_data(config_path):\n",
    "    return"
   ]
  }
 ],
 "metadata": {
  "kernelspec": {
   "display_name": "Python 3 (ipykernel)",
   "language": "python",
   "name": "python3"
  },
  "language_info": {
   "codemirror_mode": {
    "name": "ipython",
    "version": 3
   },
   "file_extension": ".py",
   "mimetype": "text/x-python",
   "name": "python",
   "nbconvert_exporter": "python",
   "pygments_lexer": "ipython3",
   "version": "3.8.12"
  }
 },
 "nbformat": 4,
 "nbformat_minor": 5
}
